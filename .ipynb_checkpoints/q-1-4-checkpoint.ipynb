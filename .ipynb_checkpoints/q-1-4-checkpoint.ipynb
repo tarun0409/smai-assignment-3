{
 "cells": [
  {
   "cell_type": "code",
   "execution_count": 1,
   "metadata": {},
   "outputs": [],
   "source": [
    "import pandas as pd\n",
    "import numpy as np\n",
    "import operator\n",
    "import json\n",
    "\n",
    "from sklearn.model_selection import train_test_split\n",
    "\n",
    "import matplotlib.pyplot as plt"
   ]
  },
  {
   "cell_type": "code",
   "execution_count": 2,
   "metadata": {},
   "outputs": [
    {
     "data": {
      "text/html": [
       "<div>\n",
       "<style scoped>\n",
       "    .dataframe tbody tr th:only-of-type {\n",
       "        vertical-align: middle;\n",
       "    }\n",
       "\n",
       "    .dataframe tbody tr th {\n",
       "        vertical-align: top;\n",
       "    }\n",
       "\n",
       "    .dataframe thead th {\n",
       "        text-align: right;\n",
       "    }\n",
       "</style>\n",
       "<table border=\"1\" class=\"dataframe\">\n",
       "  <thead>\n",
       "    <tr style=\"text-align: right;\">\n",
       "      <th></th>\n",
       "      <th>Serial No.</th>\n",
       "      <th>GRE Score</th>\n",
       "      <th>TOEFL Score</th>\n",
       "      <th>University Rating</th>\n",
       "      <th>SOP</th>\n",
       "      <th>LOR</th>\n",
       "      <th>CGPA</th>\n",
       "      <th>Research</th>\n",
       "      <th>Chance of Admit</th>\n",
       "    </tr>\n",
       "  </thead>\n",
       "  <tbody>\n",
       "    <tr>\n",
       "      <th>0</th>\n",
       "      <td>242</td>\n",
       "      <td>317</td>\n",
       "      <td>103</td>\n",
       "      <td>2</td>\n",
       "      <td>2.5</td>\n",
       "      <td>2.0</td>\n",
       "      <td>8.15</td>\n",
       "      <td>0</td>\n",
       "      <td>0.65</td>\n",
       "    </tr>\n",
       "    <tr>\n",
       "      <th>1</th>\n",
       "      <td>334</td>\n",
       "      <td>319</td>\n",
       "      <td>108</td>\n",
       "      <td>3</td>\n",
       "      <td>3.0</td>\n",
       "      <td>3.5</td>\n",
       "      <td>8.54</td>\n",
       "      <td>1</td>\n",
       "      <td>0.71</td>\n",
       "    </tr>\n",
       "    <tr>\n",
       "      <th>2</th>\n",
       "      <td>4</td>\n",
       "      <td>322</td>\n",
       "      <td>110</td>\n",
       "      <td>3</td>\n",
       "      <td>3.5</td>\n",
       "      <td>2.5</td>\n",
       "      <td>8.67</td>\n",
       "      <td>1</td>\n",
       "      <td>0.80</td>\n",
       "    </tr>\n",
       "    <tr>\n",
       "      <th>3</th>\n",
       "      <td>45</td>\n",
       "      <td>326</td>\n",
       "      <td>113</td>\n",
       "      <td>5</td>\n",
       "      <td>4.5</td>\n",
       "      <td>4.0</td>\n",
       "      <td>9.40</td>\n",
       "      <td>1</td>\n",
       "      <td>0.91</td>\n",
       "    </tr>\n",
       "    <tr>\n",
       "      <th>4</th>\n",
       "      <td>232</td>\n",
       "      <td>319</td>\n",
       "      <td>106</td>\n",
       "      <td>3</td>\n",
       "      <td>3.5</td>\n",
       "      <td>2.5</td>\n",
       "      <td>8.33</td>\n",
       "      <td>1</td>\n",
       "      <td>0.74</td>\n",
       "    </tr>\n",
       "  </tbody>\n",
       "</table>\n",
       "</div>"
      ],
      "text/plain": [
       "   Serial No.  GRE Score  TOEFL Score  University Rating  SOP  LOR  CGPA  \\\n",
       "0         242        317          103                  2  2.5  2.0  8.15   \n",
       "1         334        319          108                  3  3.0  3.5  8.54   \n",
       "2           4        322          110                  3  3.5  2.5  8.67   \n",
       "3          45        326          113                  5  4.5  4.0  9.40   \n",
       "4         232        319          106                  3  3.5  2.5  8.33   \n",
       "\n",
       "   Research  Chance of Admit  \n",
       "0         0             0.65  \n",
       "1         1             0.71  \n",
       "2         1             0.80  \n",
       "3         1             0.91  \n",
       "4         1             0.74  "
      ]
     },
     "execution_count": 2,
     "metadata": {},
     "output_type": "execute_result"
    }
   ],
   "source": [
    "data = pd.read_csv(\"admission_data.csv\")\n",
    "data.head()"
   ]
  },
  {
   "cell_type": "code",
   "execution_count": 3,
   "metadata": {},
   "outputs": [],
   "source": [
    "X_train, X_test, y_train, y_test = train_test_split(\n",
    "    data[['GRE Score', 'TOEFL Score', 'University Rating', 'SOP', 'LOR', 'CGPA', 'Research']],\n",
    "    data[['Chance of Admit']],\n",
    "    test_size=0.2,\n",
    "    random_state=0)"
   ]
  },
  {
   "cell_type": "code",
   "execution_count": 4,
   "metadata": {},
   "outputs": [],
   "source": [
    "for col in X_train:\n",
    "    mean = X_train[col].mean()\n",
    "    std = X_train[col].std()\n",
    "    X_train[col] = (X_train[col] - mean)/std\n",
    "    X_test[col] = (X_test[col]-mean)/std"
   ]
  },
  {
   "cell_type": "code",
   "execution_count": 5,
   "metadata": {},
   "outputs": [],
   "source": [
    "X_train['Ones'] = [1]*len(X_train)\n",
    "X_test['Ones'] = [1]*len(X_test)"
   ]
  },
  {
   "cell_type": "code",
   "execution_count": 6,
   "metadata": {},
   "outputs": [],
   "source": [
    "def sigmoid(Z):\n",
    "    return 1.0/(1.0 + np.exp(-Z))"
   ]
  },
  {
   "cell_type": "code",
   "execution_count": 7,
   "metadata": {},
   "outputs": [],
   "source": [
    "class LogisticRegression:\n",
    "    \n",
    "    theta = None\n",
    "    threshold = 0.72\n",
    "    \n",
    "    def set_threshold(self,t):\n",
    "        self.threshold = t\n",
    "    \n",
    "    def convert_to_class(self, target_list):\n",
    "        return map((lambda a : 0 if a<=self.threshold else 1), target_list)\n",
    "        #data['COA_logistic'] = map((lambda a : 0 if a<=0.72 else 1), (list(data['Chance of Admit'].values)))\n",
    "    \n",
    "    def compute_precision_recall_f1score(self, y_actual, y_predict):\n",
    "        y_actual = self.convert_to_class(y_actual)\n",
    "        tp = 0\n",
    "        tn = 0\n",
    "        fp = 0\n",
    "        fn = 0\n",
    "        for i in range(0,len(y_actual)):\n",
    "            if y_actual[i]==0 and y_predict[i]==0:\n",
    "                #true negative\n",
    "                tn += 1\n",
    "            if y_actual[i]==0 and y_predict[i]==1:\n",
    "                #false positive\n",
    "                fp += 1\n",
    "            if y_actual[i]==1 and y_predict[i]==0:\n",
    "                #false negative\n",
    "                fn += 1\n",
    "            if y_actual[i]==1 and y_predict[i]==1:\n",
    "                #true positive\n",
    "                tp += 1\n",
    "        precision = float(tp)/(float(tp)+float(fp))\n",
    "        recall = float(tp)/(float(tp)+float(fn))\n",
    "        f1score = 2.0/((1.0/float(precision)) + (1.0/float(recall)))\n",
    "        return (precision,recall,f1score)\n",
    "    \n",
    "    def compute_accuracy(self,y_actual, y_predict):\n",
    "        y_actual = self.convert_to_class(list(y_actual))\n",
    "        y_predict = list(y_predict)\n",
    "        hits = 0\n",
    "        for i in range(0,len(y_actual)):\n",
    "            if y_actual[i] == y_predict[i]:\n",
    "                hits+=1\n",
    "        return float(hits)/float(len(y_actual))\n",
    "    \n",
    "    def predict(self, X):\n",
    "        Y_pred = list(sigmoid(np.dot(X.values,self.theta.T)))\n",
    "        Y_pred = self.convert_to_class(sigmoid(np.dot(X,self.theta.T)))\n",
    "        return Y_pred\n",
    "    \n",
    "    def compute_error(self, y_pred, y_actual):\n",
    "        m = len(y_pred)\n",
    "        return (-1.0/float(m))*np.sum((y_actual*np.log(y_pred)) + ((1.0-y_actual)*np.log(1.0-y_pred)))\n",
    "    \n",
    "    def compute_gradient(self, X, h, Y):\n",
    "        return np.sum(X*(h-Y), axis=0)\n",
    "    \n",
    "    def train(self, X_train, y_train_df, alpha, max_epochs):\n",
    "        self.theta = None\n",
    "        self.theta = np.random.rand(1,X_train.shape[1])\n",
    "        y_train_np = y_train_df.values\n",
    "        y_train_shape = y_train_np.shape\n",
    "        Y = np.array(self.convert_to_class(list(y_train_np))).reshape((y_train_shape[0], 1))\n",
    "        m = len(X_train)\n",
    "        for i in range(0,max_epochs):\n",
    "            X = X_train.values\n",
    "            h = sigmoid(np.dot(X,self.theta.T))\n",
    "            self.theta = self.theta - alpha*self.compute_gradient(X,h,Y)"
   ]
  },
  {
   "cell_type": "code",
   "execution_count": 8,
   "metadata": {},
   "outputs": [
    {
     "name": "stdout",
     "output_type": "stream",
     "text": [
      "********************TRAINING SET*********************\n",
      "ACCURACY : 0.888888888889\n",
      "PRECISION : 0.935064935065\n",
      "RECALL : 0.878048780488\n",
      "*****************************************************\n",
      "\n",
      "********************TEST SET*********************\n",
      "ACCURACY : 0.844444444444\n",
      "PRECISION : 0.95\n",
      "RECALL : 0.844444444444\n",
      "*****************************************************\n"
     ]
    }
   ],
   "source": [
    "lg = LogisticRegression()\n",
    "lg.train(X_train,y_train,0.05,5000)\n",
    "y_pred_train = lg.predict(X_train)\n",
    "train_acc = lg.compute_accuracy(list(y_train['Chance of Admit']),y_pred_train)\n",
    "train_precision,train_recall,train_f1score = lg.compute_precision_recall_f1score(list(y_train['Chance of Admit']),y_pred_train)\n",
    "y_pred_test = lg.predict(X_test)\n",
    "test_acc = lg.compute_accuracy(list(y_test['Chance of Admit']),y_pred_test)\n",
    "test_precision,test_recall,test_f1score = lg.compute_precision_recall_f1score(list(y_test['Chance of Admit']),y_pred_test)\n",
    "\n",
    "print '********************TRAINING SET*********************'\n",
    "print 'ACCURACY : '+str(train_acc)\n",
    "print 'PRECISION : '+str(train_precision)\n",
    "print 'RECALL : '+str(train_f1score)\n",
    "print '*****************************************************'\n",
    "print\n",
    "print '********************TEST SET*********************'\n",
    "print 'ACCURACY : '+str(test_acc)\n",
    "print 'PRECISION : '+str(test_precision)\n",
    "print 'RECALL : '+str(test_f1score)\n",
    "print '*****************************************************'"
   ]
  },
  {
   "cell_type": "code",
   "execution_count": 9,
   "metadata": {},
   "outputs": [
    {
     "name": "stderr",
     "output_type": "stream",
     "text": [
      "/home/tarunm/.local/lib/python2.7/site-packages/ipykernel_launcher.py:12: DataConversionWarning: A column-vector y was passed when a 1d array was expected. Please change the shape of y to (n_samples, ), for example using ravel().\n",
      "  if sys.path[0] == '':\n"
     ]
    },
    {
     "name": "stdout",
     "output_type": "stream",
     "text": [
      "Best K : 22\n",
      "Best Train accuracy : 0.9\n",
      "Best Test accuracy : 0.866666666667\n"
     ]
    }
   ],
   "source": [
    "from sklearn.neighbors import KNeighborsClassifier\n",
    "\n",
    "best_ratio = 0.0\n",
    "best_train_acc = 0.0\n",
    "best_test_acc = 0.0\n",
    "best_k = 0\n",
    "\n",
    "for k in range(1,50):\n",
    "    neigh = KNeighborsClassifier(n_neighbors=k)\n",
    "    y_train['Chance of Admit'] = map((lambda a : 0 if a<=0.72 else 1), (list(y_train.values)))\n",
    "    y_test['Chance of Admit'] = map((lambda a : 0 if a<=0.72 else 1), (list(y_test.values)))\n",
    "    neigh.fit(X_train, y_train)\n",
    "    y_knn_train_pred = neigh.predict(X_train)\n",
    "    y_knn_test_pred = neigh.predict(X_test)\n",
    "    y_knn_train_act = list(y_train['Chance of Admit'].values)\n",
    "    y_knn_test_act = list(y_test['Chance of Admit'].values)\n",
    "    train_hits = 0\n",
    "    test_hits = 0\n",
    "    for i in range(0,len(y_knn_train_pred)):\n",
    "        if y_knn_train_pred[i] == y_knn_train_act[i]:\n",
    "            train_hits += 1\n",
    "        \n",
    "    for i in range(0,len(y_knn_test_pred)):\n",
    "        if y_knn_test_pred[i] == y_knn_test_act[i]:\n",
    "            test_hits += 1\n",
    "\n",
    "    train_knn_acc = float(train_hits)/float(len(y_knn_train_pred))\n",
    "    test_knn_acc = float(test_hits)/float(len(y_knn_test_pred))\n",
    "    ratio = 2.0/((1.0/float(train_knn_acc)) + (1.0/float(test_knn_acc)))\n",
    "    if ratio > best_ratio:\n",
    "        best_ratio = ratio\n",
    "        best_train_acc = train_knn_acc\n",
    "        best_test_acc = test_knn_acc\n",
    "        best_k = k\n",
    "\n",
    "print 'Best K : '+str(best_k)\n",
    "print 'Best Train accuracy : '+str(best_train_acc)\n",
    "print 'Best Test accuracy : '+str(best_test_acc)"
   ]
  },
  {
   "cell_type": "code",
   "execution_count": 10,
   "metadata": {
    "scrolled": true
   },
   "outputs": [],
   "source": [
    "t = 0.1\n",
    "train_accuracies = list()\n",
    "train_precisions = list()\n",
    "train_recalls = list()\n",
    "train_f1scores = list()\n",
    "test_accuracies = list()\n",
    "test_precisions = list()\n",
    "test_recalls = list()\n",
    "test_f1scores = list()\n",
    "ts = list()\n",
    "while t<0.9:\n",
    "    ts.append(t)\n",
    "    lg = LogisticRegression()\n",
    "    lg.set_threshold(t)\n",
    "    lg.train(X_train,y_train,0.05,5000)\n",
    "    y_pred_train = lg.predict(X_train)\n",
    "    train_acc = lg.compute_accuracy(list(y_train['Chance of Admit']),y_pred_train)\n",
    "    \n",
    "    train_accuracies.append(train_acc)\n",
    "    \n",
    "    train_precision,train_recall,train_f1score = lg.compute_precision_recall_f1score(list(y_train['Chance of Admit']),y_pred_train)\n",
    "    \n",
    "    train_precisions.append(train_precision)\n",
    "    train_recalls.append(train_recall)\n",
    "    train_f1scores.append(train_f1score)\n",
    "    \n",
    "    y_pred_test = lg.predict(X_test)\n",
    "    test_acc = lg.compute_accuracy(list(y_test['Chance of Admit']),y_pred_test)\n",
    "    \n",
    "    test_accuracies.append(test_acc)\n",
    "    \n",
    "    test_precision,test_recall,test_f1score = lg.compute_precision_recall_f1score(list(y_test['Chance of Admit']),y_pred_test)\n",
    "    \n",
    "    test_precisions.append(test_precision)\n",
    "    test_recalls.append(test_recall)\n",
    "    test_f1scores.append(test_f1score)\n",
    "    \n",
    "    t += 0.01"
   ]
  },
  {
   "cell_type": "code",
   "execution_count": 11,
   "metadata": {},
   "outputs": [
    {
     "data": {
      "text/plain": [
       "<matplotlib.text.Text at 0x7f4c05070b90>"
      ]
     },
     "execution_count": 11,
     "metadata": {},
     "output_type": "execute_result"
    },
    {
     "data": {
      "image/png": "[encoded data removed]",
      "text/plain": [
       "<matplotlib.figure.Figure at 0x7f4c05b28110>"
      ]
     },
     "metadata": {
      "needs_background": "light"
     },
     "output_type": "display_data"
    },
    {
     "data": {
      "image/png": "[encoded data removed]",
      "text/plain": [
       "<matplotlib.figure.Figure at 0x7f4c050f7fd0>"
      ]
     },
     "metadata": {
      "needs_background": "light"
     },
     "output_type": "display_data"
    }
   ],
   "source": [
    "df_train = pd.DataFrame({'Precision':train_precisions, 'Recall':train_recalls}, index=ts)\n",
    "lines_train = df_train.plot.line()\n",
    "lines_train.set_title('Train set')\n",
    "lines_train.set_xlabel('threshold')\n",
    "\n",
    "df_test = pd.DataFrame({'Precision':test_precisions, 'Recall':test_recalls}, index=ts)\n",
    "lines_test = df_test.plot.line()\n",
    "lines_test.set_title('Test set')\n",
    "lines_test.set_xlabel('threshold')"
   ]
  },
  {
   "cell_type": "code",
   "execution_count": null,
   "metadata": {},
   "outputs": [],
   "source": []
  },
  {
   "cell_type": "code",
   "execution_count": null,
   "metadata": {},
   "outputs": [],
   "source": []
  }
 ],
 "metadata": {
  "kernelspec": {
   "display_name": "Python 2",
   "language": "python",
   "name": "python2"
  },
  "language_info": {
   "codemirror_mode": {
    "name": "ipython",
    "version": 2
   },
   "file_extension": ".py",
   "mimetype": "text/x-python",
   "name": "python",
   "nbconvert_exporter": "python",
   "pygments_lexer": "ipython2",
   "version": "2.7.15rc1"
  }
 },
 "nbformat": 4,
 "nbformat_minor": 2
}
